{
 "cells": [
  {
   "cell_type": "code",
   "execution_count": 1,
   "metadata": {},
   "outputs": [],
   "source": [
    "%matplotlib inline\n",
    "import pandas as pd\n",
    "import numpy as np\n",
    "import matplotlib\n",
    "import matplotlib.pyplot as plt\n",
    "import os\n",
    "import sklearn"
   ]
  },
  {
   "cell_type": "code",
   "execution_count": 2,
   "metadata": {},
   "outputs": [
    {
     "name": "stdout",
     "output_type": "stream",
     "text": [
      "(8143, 6) Index(['Temperature', 'Humidity', 'Light', 'CO2', 'HumidityRatio',\n",
      "       'Occupancy'],\n",
      "      dtype='object')\n",
      "   Temperature  Humidity  Light     CO2  HumidityRatio  Occupancy\n",
      "1        23.18   27.2720  426.0  721.25       0.004793          1\n",
      "2        23.15   27.2675  429.5  714.00       0.004783          1\n",
      "3        23.15   27.2450  426.0  713.50       0.004779          1\n",
      "4        23.15   27.2000  426.0  708.25       0.004772          1\n",
      "5        23.10   27.2000  426.0  704.50       0.004757          1\n"
     ]
    }
   ],
   "source": [
    "# Source : https://archive.ics.uci.edu/ml/datasets/Occupancy+Detection+\n",
    "df = pd.read_csv('occupancy_data/datatraining.txt')\n",
    "df = df[[c for c in df.columns if c not in ['date']]]\n",
    "print(df.shape, df.columns)\n",
    "print(df.head())"
   ]
  },
  {
   "cell_type": "code",
   "execution_count": 3,
   "metadata": {},
   "outputs": [
    {
     "data": {
      "text/html": [
       "<div>\n",
       "<style scoped>\n",
       "    .dataframe tbody tr th:only-of-type {\n",
       "        vertical-align: middle;\n",
       "    }\n",
       "\n",
       "    .dataframe tbody tr th {\n",
       "        vertical-align: top;\n",
       "    }\n",
       "\n",
       "    .dataframe thead th {\n",
       "        text-align: right;\n",
       "    }\n",
       "</style>\n",
       "<table border=\"1\" class=\"dataframe\">\n",
       "  <thead>\n",
       "    <tr style=\"text-align: right;\">\n",
       "      <th></th>\n",
       "      <th>Temperature</th>\n",
       "      <th>Humidity</th>\n",
       "      <th>Light</th>\n",
       "      <th>CO2</th>\n",
       "      <th>HumidityRatio</th>\n",
       "      <th>Occupancy</th>\n",
       "    </tr>\n",
       "  </thead>\n",
       "  <tbody>\n",
       "    <tr>\n",
       "      <th>count</th>\n",
       "      <td>8143.000000</td>\n",
       "      <td>8143.000000</td>\n",
       "      <td>8143.000000</td>\n",
       "      <td>8143.000000</td>\n",
       "      <td>8143.000000</td>\n",
       "      <td>8143.000000</td>\n",
       "    </tr>\n",
       "    <tr>\n",
       "      <th>mean</th>\n",
       "      <td>20.619084</td>\n",
       "      <td>25.731507</td>\n",
       "      <td>119.519375</td>\n",
       "      <td>606.546243</td>\n",
       "      <td>0.003863</td>\n",
       "      <td>0.212330</td>\n",
       "    </tr>\n",
       "    <tr>\n",
       "      <th>std</th>\n",
       "      <td>1.016916</td>\n",
       "      <td>5.531211</td>\n",
       "      <td>194.755805</td>\n",
       "      <td>314.320877</td>\n",
       "      <td>0.000852</td>\n",
       "      <td>0.408982</td>\n",
       "    </tr>\n",
       "    <tr>\n",
       "      <th>min</th>\n",
       "      <td>19.000000</td>\n",
       "      <td>16.745000</td>\n",
       "      <td>0.000000</td>\n",
       "      <td>412.750000</td>\n",
       "      <td>0.002674</td>\n",
       "      <td>0.000000</td>\n",
       "    </tr>\n",
       "    <tr>\n",
       "      <th>25%</th>\n",
       "      <td>19.700000</td>\n",
       "      <td>20.200000</td>\n",
       "      <td>0.000000</td>\n",
       "      <td>439.000000</td>\n",
       "      <td>0.003078</td>\n",
       "      <td>0.000000</td>\n",
       "    </tr>\n",
       "    <tr>\n",
       "      <th>50%</th>\n",
       "      <td>20.390000</td>\n",
       "      <td>26.222500</td>\n",
       "      <td>0.000000</td>\n",
       "      <td>453.500000</td>\n",
       "      <td>0.003801</td>\n",
       "      <td>0.000000</td>\n",
       "    </tr>\n",
       "    <tr>\n",
       "      <th>75%</th>\n",
       "      <td>21.390000</td>\n",
       "      <td>30.533333</td>\n",
       "      <td>256.375000</td>\n",
       "      <td>638.833333</td>\n",
       "      <td>0.004352</td>\n",
       "      <td>0.000000</td>\n",
       "    </tr>\n",
       "    <tr>\n",
       "      <th>max</th>\n",
       "      <td>23.180000</td>\n",
       "      <td>39.117500</td>\n",
       "      <td>1546.333333</td>\n",
       "      <td>2028.500000</td>\n",
       "      <td>0.006476</td>\n",
       "      <td>1.000000</td>\n",
       "    </tr>\n",
       "  </tbody>\n",
       "</table>\n",
       "</div>"
      ],
      "text/plain": [
       "       Temperature     Humidity        Light          CO2  HumidityRatio  \\\n",
       "count  8143.000000  8143.000000  8143.000000  8143.000000    8143.000000   \n",
       "mean     20.619084    25.731507   119.519375   606.546243       0.003863   \n",
       "std       1.016916     5.531211   194.755805   314.320877       0.000852   \n",
       "min      19.000000    16.745000     0.000000   412.750000       0.002674   \n",
       "25%      19.700000    20.200000     0.000000   439.000000       0.003078   \n",
       "50%      20.390000    26.222500     0.000000   453.500000       0.003801   \n",
       "75%      21.390000    30.533333   256.375000   638.833333       0.004352   \n",
       "max      23.180000    39.117500  1546.333333  2028.500000       0.006476   \n",
       "\n",
       "         Occupancy  \n",
       "count  8143.000000  \n",
       "mean      0.212330  \n",
       "std       0.408982  \n",
       "min       0.000000  \n",
       "25%       0.000000  \n",
       "50%       0.000000  \n",
       "75%       0.000000  \n",
       "max       1.000000  "
      ]
     },
     "execution_count": 3,
     "metadata": {},
     "output_type": "execute_result"
    }
   ],
   "source": [
    "df.describe()"
   ]
  },
  {
   "cell_type": "code",
   "execution_count": 4,
   "metadata": {},
   "outputs": [
    {
     "data": {
      "image/png": "[encoded data removed]",
      "text/plain": [
       "<Figure size 432x288 with 5 Axes>"
      ]
     },
     "metadata": {},
     "output_type": "display_data"
    }
   ],
   "source": [
    "def sephist(col):\n",
    "    yes = df[df['Occupancy'] == 1][col]\n",
    "    no = df[df['Occupancy'] == 0][col]\n",
    "    return yes, no\n",
    "\n",
    "for num, alpha in enumerate(['Temperature', 'Humidity', 'Light', 'CO2', 'HumidityRatio']):\n",
    "    plt.subplot(2, 3, num+1)\n",
    "    plt.hist(sephist(alpha)[0], bins=25, alpha=0.5, label=\"1\", color='b')\n",
    "    plt.hist(sephist(alpha)[1], bins=25, alpha=0.5, label=\"0\", color='r')\n",
    "    plt.legend(loc='upper right')\n",
    "    plt.title(alpha)\n",
    "plt.tight_layout(pad=0.4, w_pad=0.5, h_pad=1.0)"
   ]
  },
  {
   "cell_type": "code",
   "execution_count": 5,
   "metadata": {},
   "outputs": [
    {
     "data": {
      "text/plain": [
       "<matplotlib.axes._subplots.AxesSubplot at 0x7f6458556c18>"
      ]
     },
     "execution_count": 5,
     "metadata": {},
     "output_type": "execute_result"
    },
    {
     "data": {
      "image/png": "[encoded data removed]",
      "text/plain": [
       "<Figure size 432x288 with 2 Axes>"
      ]
     },
     "metadata": {},
     "output_type": "display_data"
    }
   ],
   "source": [
    "import seaborn as sns\n",
    "%matplotlib inline\n",
    "\n",
    "# calculate the correlation matrix\n",
    "corr = df[[c for c in df.columns if c not in ['date']]].corr()\n",
    "\n",
    "# plot the heatmap\n",
    "sns.heatmap(corr, \n",
    "        xticklabels=corr.columns,\n",
    "        yticklabels=corr.columns)"
   ]
  },
  {
   "cell_type": "code",
   "execution_count": 6,
   "metadata": {},
   "outputs": [],
   "source": [
    "from sklearn.model_selection import train_test_split\n",
    "from sklearn.model_selection import cross_val_score\n"
   ]
  },
  {
   "cell_type": "code",
   "execution_count": 7,
   "metadata": {},
   "outputs": [
    {
     "name": "stderr",
     "output_type": "stream",
     "text": [
      "/home/renaud/.local/share/virtualenvs/datascience-f90qDZbT/lib/python3.6/site-packages/ipykernel_launcher.py:2: SettingWithCopyWarning: \n",
      "A value is trying to be set on a copy of a slice from a DataFrame\n",
      "\n",
      "See the caveats in the documentation: http://pandas.pydata.org/pandas-docs/stable/indexing.html#indexing-view-versus-copy\n",
      "  \n"
     ]
    }
   ],
   "source": [
    "X = df[[c for c in df.columns if c != 'Occupancy']]\n",
    "X.drop(columns=['Light'], inplace=True)\n",
    "y = df['Occupancy']"
   ]
  },
  {
   "cell_type": "markdown",
   "metadata": {},
   "source": [
    "from sklearn import svm\n",
    "clf = svm.SVC(kernel='linear', C=2)\n",
    "scores = cross_val_score(clf, X, y, cv=3)\n",
    "\n",
    "print(np.mean(scores))"
   ]
  },
  {
   "cell_type": "code",
   "execution_count": 20,
   "metadata": {},
   "outputs": [
    {
     "name": "stdout",
     "output_type": "stream",
     "text": [
      "GridSearchCV(cv=2, error_score='raise',\n",
      "       estimator=SVC(C=1.0, cache_size=200, class_weight=None, coef0=0.0,\n",
      "  decision_function_shape='ovr', degree=3, gamma='auto', kernel='rbf',\n",
      "  max_iter=-1, probability=False, random_state=None, shrinking=True,\n",
      "  tol=0.001, verbose=False),\n",
      "       fit_params=None, iid=True, n_jobs=4,\n",
      "       param_grid=({'C': [1, 10, 100, 1000], 'kernel': ['linear', 'sigmoid']},),\n",
      "       pre_dispatch='2*n_jobs', refit=True, return_train_score='warn',\n",
      "       scoring=None, verbose=0)\n",
      "0.84\n",
      "{'C': 1, 'kernel': 'sigmoid'}\n"
     ]
    }
   ],
   "source": [
    "from sklearn import svm\n",
    "from sklearn.model_selection import GridSearchCV\n",
    "#X = X.head(2000)\n",
    "#y = y.head(2000)\n",
    "param_grid = {'C': [1, 10, 100, 1000], 'kernel': ['linear', 'sigmoid']},\n",
    "\n",
    "grid = GridSearchCV(estimator=svm.SVC(), param_grid=param_grid, cv=2, n_jobs=4)\n",
    "grid.fit(X, y)\n",
    "print(grid)\n",
    "# summarize the results of the grid search\n",
    "print(grid.best_score_)\n",
    "print(grid.best_params_)"
   ]
  }
 ],
 "metadata": {
  "kernelspec": {
   "display_name": "datascience",
   "language": "python",
   "name": "datascience"
  },
  "language_info": {
   "codemirror_mode": {
    "name": "ipython",
    "version": 3
   },
   "file_extension": ".py",
   "mimetype": "text/x-python",
   "name": "python",
   "nbconvert_exporter": "python",
   "pygments_lexer": "ipython3",
   "version": "3.6.4"
  }
 },
 "nbformat": 4,
 "nbformat_minor": 2
}
